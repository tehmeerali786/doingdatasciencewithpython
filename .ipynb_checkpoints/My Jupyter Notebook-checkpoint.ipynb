{
 "cells": [
  {
   "cell_type": "code",
   "execution_count": 1,
   "metadata": {},
   "outputs": [
    {
     "name": "stdout",
     "output_type": "stream",
     "text": [
      "Hello World!\n"
     ]
    }
   ],
   "source": [
    "print \"Hello World!\""
   ]
  },
  {
   "cell_type": "code",
   "execution_count": 2,
   "metadata": {},
   "outputs": [
    {
     "name": "stderr",
     "output_type": "stream",
     "text": [
      "Python 2.7.15 :: Anaconda, Inc.\n"
     ]
    }
   ],
   "source": [
    "!python --version"
   ]
  },
  {
   "cell_type": "code",
   "execution_count": 3,
   "metadata": {},
   "outputs": [
    {
     "name": "stdout",
     "output_type": "stream",
     "text": [
      " Volume in drive C has no label.\n",
      " Volume Serial Number is A84A-1849\n",
      "\n",
      " Directory of C:\\Users\\TehmeerAli\\Desktop\\Tensorflow\\Doing Data Analysis with Python\n",
      "\n",
      "08/04/2018  06:41 AM    <DIR>          .\n",
      "08/04/2018  06:41 AM    <DIR>          ..\n",
      "08/04/2018  06:37 AM    <DIR>          .ipynb_checkpoints\n",
      "08/04/2018  06:41 AM             1,086 My Jupyter Notebook.ipynb\n",
      "               1 File(s)          1,086 bytes\n",
      "               3 Dir(s)  177,424,445,440 bytes free\n"
     ]
    }
   ],
   "source": [
    "%ls"
   ]
  },
  {
   "cell_type": "code",
   "execution_count": 4,
   "metadata": {},
   "outputs": [
    {
     "name": "stdout",
     "output_type": "stream",
     "text": [
      "Collecting cookiecutter\n",
      "  Downloading https://files.pythonhosted.org/packages/16/99/1ca3a75978270288354f419e9166666801cf7e7d8df984de44a7d5d8b8d0/cookiecutter-1.6.0-py2.py3-none-any.whl (50kB)\n",
      "Collecting whichcraft>=0.4.0 (from cookiecutter)\n",
      "  Downloading https://files.pythonhosted.org/packages/60/8a/5c52e30e11672f7e3aa61f348ddae443d122bcd96bc8b785ac76dbae944b/whichcraft-0.4.1-py2.py3-none-any.whl\n",
      "Requirement already satisfied: requests>=2.18.0 in c:\\programdata\\anaconda2\\lib\\site-packages (from cookiecutter) (2.18.4)\n",
      "Collecting jinja2-time>=0.1.0 (from cookiecutter)\n",
      "  Downloading https://files.pythonhosted.org/packages/6a/a1/d44fa38306ffa34a7e1af09632b158e13ec89670ce491f8a15af3ebcb4e4/jinja2_time-0.2.0-py2.py3-none-any.whl\n",
      "Collecting future>=0.15.2 (from cookiecutter)\n",
      "  Downloading https://files.pythonhosted.org/packages/00/2b/8d082ddfed935f3608cc61140df6dcbf0edea1bc3ab52fb6c29ae3e81e85/future-0.16.0.tar.gz (824kB)\n",
      "Collecting poyo>=0.1.0 (from cookiecutter)\n",
      "  Downloading https://files.pythonhosted.org/packages/ea/6c/62c76c12015f6a1849446fb73da59be1229312c54d6d05068275e52bf29f/poyo-0.4.1-py2.py3-none-any.whl\n",
      "Requirement already satisfied: click>=5.0 in c:\\programdata\\anaconda2\\lib\\site-packages (from cookiecutter) (6.7)\n",
      "Requirement already satisfied: jinja2>=2.7 in c:\\programdata\\anaconda2\\lib\\site-packages (from cookiecutter) (2.10)\n",
      "Collecting binaryornot>=0.2.0 (from cookiecutter)\n",
      "  Downloading https://files.pythonhosted.org/packages/24/7e/f7b6f453e6481d1e233540262ccbfcf89adcd43606f44a028d7f5fae5eb2/binaryornot-0.4.4-py2.py3-none-any.whl\n",
      "Requirement already satisfied: chardet<3.1.0,>=3.0.2 in c:\\programdata\\anaconda2\\lib\\site-packages (from requests>=2.18.0->cookiecutter) (3.0.4)\n",
      "Requirement already satisfied: idna<2.7,>=2.5 in c:\\programdata\\anaconda2\\lib\\site-packages (from requests>=2.18.0->cookiecutter) (2.6)\n",
      "Requirement already satisfied: urllib3<1.23,>=1.21.1 in c:\\programdata\\anaconda2\\lib\\site-packages (from requests>=2.18.0->cookiecutter) (1.22)\n",
      "Requirement already satisfied: certifi>=2017.4.17 in c:\\programdata\\anaconda2\\lib\\site-packages (from requests>=2.18.0->cookiecutter) (2018.4.16)\n",
      "Collecting arrow (from jinja2-time>=0.1.0->cookiecutter)\n",
      "  Downloading https://files.pythonhosted.org/packages/e0/86/4eb5228a43042e9a80fe8c84093a8a36f5db34a3767ebd5e1e7729864e7b/arrow-0.12.1.tar.gz (65kB)\n",
      "Requirement already satisfied: MarkupSafe>=0.23 in c:\\programdata\\anaconda2\\lib\\site-packages (from jinja2>=2.7->cookiecutter) (1.0)\n",
      "Requirement already satisfied: python-dateutil in c:\\programdata\\anaconda2\\lib\\site-packages (from arrow->jinja2-time>=0.1.0->cookiecutter) (2.7.3)\n",
      "Requirement already satisfied: backports.functools_lru_cache>=1.2.1 in c:\\programdata\\anaconda2\\lib\\site-packages (from arrow->jinja2-time>=0.1.0->cookiecutter) (1.5)\n",
      "Requirement already satisfied: six>=1.5 in c:\\programdata\\anaconda2\\lib\\site-packages (from python-dateutil->arrow->jinja2-time>=0.1.0->cookiecutter) (1.11.0)\n",
      "Building wheels for collected packages: future, arrow\n",
      "  Running setup.py bdist_wheel for future: started\n",
      "  Running setup.py bdist_wheel for future: finished with status 'done'\n",
      "  Stored in directory: C:\\Users\\TehmeerAli\\AppData\\Local\\pip\\Cache\\wheels\\bf\\c9\\a3\\c538d90ef17cf7823fa51fc701a7a7a910a80f6a405bf15b1a\n",
      "  Running setup.py bdist_wheel for arrow: started\n",
      "  Running setup.py bdist_wheel for arrow: finished with status 'done'\n",
      "  Stored in directory: C:\\Users\\TehmeerAli\\AppData\\Local\\pip\\Cache\\wheels\\a3\\dd\\b2\\d3b8d22e8136164c2e2c36ed42392531957cdf9c717065b28b\n",
      "Successfully built future arrow\n",
      "Installing collected packages: whichcraft, arrow, jinja2-time, future, poyo, binaryornot, cookiecutter\n",
      "Successfully installed arrow-0.12.1 binaryornot-0.4.4 cookiecutter-1.6.0 future-0.16.0 jinja2-time-0.2.0 poyo-0.4.1 whichcraft-0.4.1\n"
     ]
    },
    {
     "name": "stderr",
     "output_type": "stream",
     "text": [
      "distributed 1.21.8 requires msgpack, which is not installed.\n",
      "grin 1.2.1 requires argparse>=1.1, which is not installed.\n",
      "You are using pip version 10.0.1, however version 18.0 is available.\n",
      "You should consider upgrading via the 'python -m pip install --upgrade pip' command.\n"
     ]
    }
   ],
   "source": [
    "!pip install cookiecutter"
   ]
  },
  {
   "cell_type": "code",
   "execution_count": null,
   "metadata": {},
   "outputs": [],
   "source": [
    "!cookiecutter https://github.com/drivendata/cookiecutter-data-science"
   ]
  },
  {
   "cell_type": "code",
   "execution_count": null,
   "metadata": {},
   "outputs": [],
   "source": []
  }
 ],
 "metadata": {
  "kernelspec": {
   "display_name": "Python 2",
   "language": "python",
   "name": "python2"
  },
  "language_info": {
   "codemirror_mode": {
    "name": "ipython",
    "version": 2
   },
   "file_extension": ".py",
   "mimetype": "text/x-python",
   "name": "python",
   "nbconvert_exporter": "python",
   "pygments_lexer": "ipython2",
   "version": "2.7.15"
  }
 },
 "nbformat": 4,
 "nbformat_minor": 2
}
