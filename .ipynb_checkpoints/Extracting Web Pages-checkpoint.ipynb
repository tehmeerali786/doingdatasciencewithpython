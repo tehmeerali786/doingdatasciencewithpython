{
 "cells": [
  {
   "cell_type": "markdown",
   "metadata": {},
   "source": [
    "# Web Scraping"
   ]
  },
  {
   "cell_type": "code",
   "execution_count": 2,
   "metadata": {},
   "outputs": [],
   "source": [
    "# import\n",
    "import requests\n",
    "from bs4 import BeautifulSoup"
   ]
  },
  {
   "cell_type": "code",
   "execution_count": 5,
   "metadata": {
    "collapsed": true
   },
   "outputs": [],
   "source": [
    "# HMTL String\n",
    "html_string = \"\"\"\n",
    "<!doctype html>\n",
    "<html lang=\"en\">\n",
    "<head>\n",
    "  <title>Doing Data Science With Python</title>\n",
    "</head>\n",
    "<body>\n",
    "  <h1 style=\"color:#F15B2A;\">Doing Data Science With Python</h1>\n",
    "  <p id=\"author\">Author : Tehmeer Ali Paryani</p>\n",
    "  <p id=\"description\">This course will help you to perform various data science activities using python.</p>\n",
    "  \n",
    "  <h3 style=\"color:#404040\">Modules</h3>\n",
    "  <table id=\"module\" style=\"width:100%\">\n",
    "      <tr>\n",
    "        <th>Title</th>\n",
    "        <th>Duration (In Minutes)</th> \n",
    "      </tr>\n",
    "      <tr>\n",
    "        <td>Getting Started</td>\n",
    "        <td>20</td> \n",
    "      </tr>\n",
    "      <tr>\n",
    "        <td>Setting up the Environment</td>\n",
    "        <td>40</td> \n",
    "      </tr>\n",
    "      <tr>\n",
    "        <td>Extracting Data</td>\n",
    "        <td>35</td> \n",
    "      </tr>\n",
    "      <tr>\n",
    "        <td>Exploring and Processing Data - Part 1</td>\n",
    "        <td>45</td> \n",
    "      </tr>\n",
    "      <tr>\n",
    "        <td>Exploring and Processing Data - Part 2</td>\n",
    "        <td>45</td> \n",
    "      </tr>\n",
    "      <tr>\n",
    "        <td>Building Predictive Model</td>\n",
    "        <td>30</td> \n",
    "      </tr>\n",
    "  </table>\n",
    "</body>\n",
    "</html>\n",
    "\"\"\""
   ]
  },
  {
   "cell_type": "code",
   "execution_count": 6,
   "metadata": {},
   "outputs": [
    {
     "data": {
      "text/html": [
       "\n",
       "<!doctype html>\n",
       "<html lang=\"en\">\n",
       "<head>\n",
       "  <title>Doing Data Science With Python</title>\n",
       "</head>\n",
       "<body>\n",
       "  <h1 style=\"color:#F15B2A;\">Doing Data Science With Python</h1>\n",
       "  <p id=\"author\">Author : Tehmeer Ali Paryani</p>\n",
       "  <p id=\"description\">This course will help you to perform various data science activities using python.</p>\n",
       "  \n",
       "  <h3 style=\"color:#404040\">Modules</h3>\n",
       "  <table id=\"module\" style=\"width:100%\">\n",
       "      <tr>\n",
       "        <th>Title</th>\n",
       "        <th>Duration (In Minutes)</th> \n",
       "      </tr>\n",
       "      <tr>\n",
       "        <td>Getting Started</td>\n",
       "        <td>20</td> \n",
       "      </tr>\n",
       "      <tr>\n",
       "        <td>Setting up the Environment</td>\n",
       "        <td>40</td> \n",
       "      </tr>\n",
       "      <tr>\n",
       "        <td>Extracting Data</td>\n",
       "        <td>35</td> \n",
       "      </tr>\n",
       "      <tr>\n",
       "        <td>Exploring and Processing Data - Part 1</td>\n",
       "        <td>45</td> \n",
       "      </tr>\n",
       "      <tr>\n",
       "        <td>Exploring and Processing Data - Part 2</td>\n",
       "        <td>45</td> \n",
       "      </tr>\n",
       "      <tr>\n",
       "        <td>Building Predictive Model</td>\n",
       "        <td>30</td> \n",
       "      </tr>\n",
       "  </table>\n",
       "</body>\n",
       "</html>\n"
      ],
      "text/plain": [
       "<IPython.core.display.HTML object>"
      ]
     },
     "metadata": {},
     "output_type": "display_data"
    }
   ],
   "source": [
    "# display HTML String in the Jupyter notebook\n",
    "from IPython.core.display import display, HTML\n",
    "display(HTML(html_string))"
   ]
  },
  {
   "cell_type": "code",
   "execution_count": 7,
   "metadata": {},
   "outputs": [
    {
     "name": "stderr",
     "output_type": "stream",
     "text": [
      "C:\\ProgramData\\Anaconda3\\lib\\site-packages\\bs4\\__init__.py:181: UserWarning: No parser was explicitly specified, so I'm using the best available HTML parser for this system (\"lxml\"). This usually isn't a problem, but if you run this code on another system, or in a different virtual environment, it may use a different parser and behave differently.\n",
      "\n",
      "The code that caused this warning is on line 193 of the file C:\\ProgramData\\Anaconda3\\lib\\runpy.py. To get rid of this warning, change code that looks like this:\n",
      "\n",
      " BeautifulSoup(YOUR_MARKUP})\n",
      "\n",
      "to this:\n",
      "\n",
      " BeautifulSoup(YOUR_MARKUP, \"lxml\")\n",
      "\n",
      "  markup_type=markup_type))\n"
     ]
    }
   ],
   "source": [
    "ps = BeautifulSoup(html_string)"
   ]
  },
  {
   "cell_type": "code",
   "execution_count": 8,
   "metadata": {},
   "outputs": [
    {
     "name": "stdout",
     "output_type": "stream",
     "text": [
      "<!DOCTYPE html>\n",
      "<html lang=\"en\">\n",
      "<head>\n",
      "<title>Doing Data Science With Python</title>\n",
      "</head>\n",
      "<body>\n",
      "<h1 style=\"color:#F15B2A;\">Doing Data Science With Python</h1>\n",
      "<p id=\"author\">Author : Tehmeer Ali Paryani</p>\n",
      "<p id=\"description\">This course will help you to perform various data science activities using python.</p>\n",
      "<h3 style=\"color:#404040\">Modules</h3>\n",
      "<table id=\"module\" style=\"width:100%\">\n",
      "<tr>\n",
      "<th>Title</th>\n",
      "<th>Duration (In Minutes)</th>\n",
      "</tr>\n",
      "<tr>\n",
      "<td>Getting Started</td>\n",
      "<td>20</td>\n",
      "</tr>\n",
      "<tr>\n",
      "<td>Setting up the Environment</td>\n",
      "<td>40</td>\n",
      "</tr>\n",
      "<tr>\n",
      "<td>Extracting Data</td>\n",
      "<td>35</td>\n",
      "</tr>\n",
      "<tr>\n",
      "<td>Exploring and Processing Data - Part 1</td>\n",
      "<td>45</td>\n",
      "</tr>\n",
      "<tr>\n",
      "<td>Exploring and Processing Data - Part 2</td>\n",
      "<td>45</td>\n",
      "</tr>\n",
      "<tr>\n",
      "<td>Building Predictive Model</td>\n",
      "<td>30</td>\n",
      "</tr>\n",
      "</table>\n",
      "</body>\n",
      "</html>\n",
      "\n"
     ]
    }
   ],
   "source": [
    "# print ps\n",
    "print(ps)"
   ]
  },
  {
   "cell_type": "code",
   "execution_count": 9,
   "metadata": {
    "collapsed": true
   },
   "outputs": [],
   "source": [
    "# use name parameter to select by tag name\n",
    "body = ps.find(name=\"body\")"
   ]
  },
  {
   "cell_type": "code",
   "execution_count": 10,
   "metadata": {},
   "outputs": [
    {
     "name": "stdout",
     "output_type": "stream",
     "text": [
      "<body>\n",
      "<h1 style=\"color:#F15B2A;\">Doing Data Science With Python</h1>\n",
      "<p id=\"author\">Author : Tehmeer Ali Paryani</p>\n",
      "<p id=\"description\">This course will help you to perform various data science activities using python.</p>\n",
      "<h3 style=\"color:#404040\">Modules</h3>\n",
      "<table id=\"module\" style=\"width:100%\">\n",
      "<tr>\n",
      "<th>Title</th>\n",
      "<th>Duration (In Minutes)</th>\n",
      "</tr>\n",
      "<tr>\n",
      "<td>Getting Started</td>\n",
      "<td>20</td>\n",
      "</tr>\n",
      "<tr>\n",
      "<td>Setting up the Environment</td>\n",
      "<td>40</td>\n",
      "</tr>\n",
      "<tr>\n",
      "<td>Extracting Data</td>\n",
      "<td>35</td>\n",
      "</tr>\n",
      "<tr>\n",
      "<td>Exploring and Processing Data - Part 1</td>\n",
      "<td>45</td>\n",
      "</tr>\n",
      "<tr>\n",
      "<td>Exploring and Processing Data - Part 2</td>\n",
      "<td>45</td>\n",
      "</tr>\n",
      "<tr>\n",
      "<td>Building Predictive Model</td>\n",
      "<td>30</td>\n",
      "</tr>\n",
      "</table>\n",
      "</body>\n"
     ]
    }
   ],
   "source": [
    "print(body)"
   ]
  },
  {
   "cell_type": "code",
   "execution_count": 11,
   "metadata": {},
   "outputs": [
    {
     "name": "stdout",
     "output_type": "stream",
     "text": [
      "Doing Data Science With Python\n"
     ]
    }
   ],
   "source": [
    "# use text attribute to get the content of the tag\n",
    "print(body.find(name=\"h1\").text)"
   ]
  },
  {
   "cell_type": "code",
   "execution_count": 12,
   "metadata": {},
   "outputs": [
    {
     "name": "stdout",
     "output_type": "stream",
     "text": [
      "<p id=\"author\">Author : Tehmeer Ali Paryani</p>\n"
     ]
    }
   ],
   "source": [
    "# get first element\n",
    "print(body.find(name=\"p\"))"
   ]
  },
  {
   "cell_type": "code",
   "execution_count": 15,
   "metadata": {},
   "outputs": [
    {
     "name": "stdout",
     "output_type": "stream",
     "text": [
      "[<p id=\"author\">Author : Tehmeer Ali Paryani</p>, <p id=\"description\">This course will help you to perform various data science activities using python.</p>]\n"
     ]
    }
   ],
   "source": [
    "# get all elements\n",
    "print(body.findAll(name=\"p\"))"
   ]
  },
  {
   "cell_type": "code",
   "execution_count": 16,
   "metadata": {},
   "outputs": [
    {
     "name": "stdout",
     "output_type": "stream",
     "text": [
      "Author : Tehmeer Ali Paryani\n",
      "This course will help you to perform various data science activities using python.\n"
     ]
    }
   ],
   "source": [
    "# loop through each element\n",
    "for p in body.find_all(name=\"p\"):\n",
    "    print (p.text)"
   ]
  },
  {
   "cell_type": "code",
   "execution_count": 17,
   "metadata": {},
   "outputs": [
    {
     "name": "stdout",
     "output_type": "stream",
     "text": [
      "<p id=\"author\">Author : Tehmeer Ali Paryani</p>\n"
     ]
    }
   ],
   "source": [
    "# add attributes in the selection process\n",
    "print(body.find(name=\"p\", attrs={\"id\": \"author\"}))"
   ]
  },
  {
   "cell_type": "code",
   "execution_count": 18,
   "metadata": {},
   "outputs": [
    {
     "name": "stdout",
     "output_type": "stream",
     "text": [
      "<p id=\"description\">This course will help you to perform various data science activities using python.</p>\n"
     ]
    }
   ],
   "source": [
    "print(body.find(name=\"p\", attrs={\"id\": \"description\"}))"
   ]
  },
  {
   "cell_type": "code",
   "execution_count": 21,
   "metadata": {},
   "outputs": [
    {
     "name": "stdout",
     "output_type": "stream",
     "text": [
      "Getting Started 20\n",
      "Setting up the Environment 40\n",
      "Extracting Data 35\n",
      "Exploring and Processing Data - Part 1 45\n",
      "Exploring and Processing Data - Part 2 45\n",
      "Building Predictive Model 30\n"
     ]
    }
   ],
   "source": [
    "# body\n",
    "body = ps.find(name=\"body\")\n",
    "# module table\n",
    "module_table = body.find(name=\"table\", attrs={\"id\":\"module\"})\n",
    "# iterate through each row in the table (skipping the first row)\n",
    "for row in module_table.findAll(name=\"tr\")[1:]:\n",
    "    # module title\n",
    "    title = row.findAll(name=\"td\")[0].text\n",
    "    # module duration\n",
    "    duration = int(row.findAll(name=\"td\")[1].text)\n",
    "    print(title, duration)\n",
    "    \n",
    "    "
   ]
  },
  {
   "cell_type": "markdown",
   "metadata": {},
   "source": [
    "# Extracting Titanic Disaster Data from Kaggle"
   ]
  },
  {
   "cell_type": "code",
   "execution_count": 22,
   "metadata": {},
   "outputs": [
    {
     "name": "stdout",
     "output_type": "stream",
     "text": [
      "Collecting python-dotenv\n",
      "  Downloading https://files.pythonhosted.org/packages/24/3d/977140bd94bfb160f98a5c02fdfbb72325130f12a325cf993182956e9d0e/python_dotenv-0.9.1-py2.py3-none-any.whl\n",
      "Installing collected packages: python-dotenv\n",
      "Successfully installed python-dotenv-0.9.1\n"
     ]
    },
    {
     "name": "stderr",
     "output_type": "stream",
     "text": [
      "You are using pip version 9.0.1, however version 18.0 is available.\n",
      "You should consider upgrading via the 'python -m pip install --upgrade pip' command.\n"
     ]
    }
   ],
   "source": [
    "!pip install python-dotenv"
   ]
  },
  {
   "cell_type": "code",
   "execution_count": 23,
   "metadata": {
    "collapsed": true
   },
   "outputs": [],
   "source": [
    "from dotenv import load_dotenv, find_dotenv"
   ]
  },
  {
   "cell_type": "code",
   "execution_count": 24,
   "metadata": {},
   "outputs": [
    {
     "data": {
      "text/plain": [
       "True"
      ]
     },
     "execution_count": 24,
     "metadata": {},
     "output_type": "execute_result"
    }
   ],
   "source": [
    "# find .env automatically by walking up directories until it's found\n",
    "dotenv_path = find_dotenv()\n",
    "# load up the entries as environment variables\n",
    "load_dotenv(dotenv_path)"
   ]
  },
  {
   "cell_type": "code",
   "execution_count": 35,
   "metadata": {},
   "outputs": [
    {
     "name": "stdout",
     "output_type": "stream",
     "text": [
      "None\n"
     ]
    }
   ],
   "source": [
    "# extracting environment variable using os.environ.get\n",
    "import os\n",
    "print(os.environ.get(\"KAGGLE_USERNAME\"))\n"
   ]
  },
  {
   "cell_type": "code",
   "execution_count": null,
   "metadata": {
    "collapsed": true
   },
   "outputs": [],
   "source": []
  }
 ],
 "metadata": {
  "kernelspec": {
   "display_name": "Python 3",
   "language": "python",
   "name": "python3"
  },
  "language_info": {
   "codemirror_mode": {
    "name": "ipython",
    "version": 3
   },
   "file_extension": ".py",
   "mimetype": "text/x-python",
   "name": "python",
   "nbconvert_exporter": "python",
   "pygments_lexer": "ipython3",
   "version": "3.6.1"
  }
 },
 "nbformat": 4,
 "nbformat_minor": 2
}
